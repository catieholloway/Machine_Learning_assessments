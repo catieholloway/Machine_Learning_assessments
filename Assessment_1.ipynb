{
  "nbformat": 4,
  "nbformat_minor": 0,
  "metadata": {
    "colab": {
      "name": "Assessment_1",
      "provenance": [],
      "collapsed_sections": []
    },
    "kernelspec": {
      "name": "python3",
      "display_name": "Python 3"
    }
  },
  "cells": [
    {
      "cell_type": "code",
      "metadata": {
        "colab": {
          "base_uri": "https://localhost:8080/"
        },
        "id": "6xe3ykEQcSih",
        "outputId": "721e9917-22c3-4df1-bddb-b30d92b1e21b"
      },
      "source": [
        "#Question 1\r\n",
        "\r\n",
        "import pandas as pd\r\n",
        "net = pd.read_csv(\"https://raw.githubusercontent.com/byui-cse/cse450-course/master/data/netflix_titles.csv\")\r\n",
        "net.info()"
      ],
      "execution_count": 58,
      "outputs": [
        {
          "output_type": "stream",
          "text": [
            "<class 'pandas.core.frame.DataFrame'>\n",
            "RangeIndex: 6234 entries, 0 to 6233\n",
            "Data columns (total 12 columns):\n",
            " #   Column        Non-Null Count  Dtype \n",
            "---  ------        --------------  ----- \n",
            " 0   show_id       6234 non-null   int64 \n",
            " 1   type          6234 non-null   object\n",
            " 2   title         6234 non-null   object\n",
            " 3   director      4265 non-null   object\n",
            " 4   cast          5664 non-null   object\n",
            " 5   country       5758 non-null   object\n",
            " 6   date_added    6223 non-null   object\n",
            " 7   release_year  6234 non-null   int64 \n",
            " 8   rating        6224 non-null   object\n",
            " 9   duration      6234 non-null   object\n",
            " 10  listed_in     6234 non-null   object\n",
            " 11  description   6234 non-null   object\n",
            "dtypes: int64(2), object(10)\n",
            "memory usage: 584.6+ KB\n"
          ],
          "name": "stdout"
        }
      ]
    },
    {
      "cell_type": "code",
      "metadata": {
        "colab": {
          "base_uri": "https://localhost:8080/"
        },
        "id": "sl7Jkc4OdhF3",
        "outputId": "0dfba1b9-fdb7-444b-8548-b276dea01fd9"
      },
      "source": [
        "#Question 2\r\n",
        "\r\n",
        "tv = net[net[\"type\"] == \"TV Show\"]\r\n",
        "tv.value_counts(\"rating\")"
      ],
      "execution_count": 60,
      "outputs": [
        {
          "output_type": "execute_result",
          "data": {
            "text/plain": [
              "rating\n",
              "TV-MA       679\n",
              "TV-14       660\n",
              "TV-PG       269\n",
              "TV-Y        102\n",
              "TV-Y7       100\n",
              "TV-G         69\n",
              "TV-Y7-FV     68\n",
              "NR           16\n",
              "R             2\n",
              "PG            1\n",
              "G             1\n",
              "dtype: int64"
            ]
          },
          "metadata": {
            "tags": []
          },
          "execution_count": 60
        }
      ]
    },
    {
      "cell_type": "code",
      "metadata": {
        "colab": {
          "base_uri": "https://localhost:8080/"
        },
        "id": "2WQDZ-uJeHb5",
        "outputId": "98cb12cf-6098-438a-b4fd-9c79dba1d611"
      },
      "source": [
        "#Question 3\r\n",
        "\r\n",
        "tv = tv[tv[\"release_year\"].isin([\"2000\",\"2001\",'2002','2003','2004','2005','2006','2007','2008','2009'])]\r\n",
        "\r\n",
        "tv.value_counts(\"type\")"
      ],
      "execution_count": 62,
      "outputs": [
        {
          "output_type": "execute_result",
          "data": {
            "text/plain": [
              "type\n",
              "TV Show    113\n",
              "dtype: int64"
            ]
          },
          "metadata": {
            "tags": []
          },
          "execution_count": 62
        }
      ]
    },
    {
      "cell_type": "code",
      "metadata": {
        "colab": {
          "base_uri": "https://localhost:8080/"
        },
        "id": "sb-mw7tagH8n",
        "outputId": "6e2d2e03-3e68-497d-c0c7-df71ea6ccfbc"
      },
      "source": [
        "#Question 4\r\n",
        "\r\n",
        "cereal = pd.read_csv(\"https://raw.githubusercontent.com/byui-cse/cse450-course/master/data/cereal.csv\")\r\n",
        "#cereal.info()\r\n",
        "\r\n",
        "sub = cereal[cereal[\"mfr\"] == \"K\"]\r\n",
        "sub[\"protein\"].median()"
      ],
      "execution_count": 63,
      "outputs": [
        {
          "output_type": "execute_result",
          "data": {
            "text/plain": [
              "3.0"
            ]
          },
          "metadata": {
            "tags": []
          },
          "execution_count": 63
        }
      ]
    },
    {
      "cell_type": "code",
      "metadata": {
        "colab": {
          "base_uri": "https://localhost:8080/"
        },
        "id": "TWS5lmzRhA0m",
        "outputId": "1dfae937-7517-4e05-8bb0-274cb43b662a"
      },
      "source": [
        "#Quetion 5\r\n",
        "#healthiness = (protein + fiber) / sugar\r\n",
        "\r\n",
        "sub2 = cereal[cereal[\"mfr\"] == \"G\"]\r\n",
        "sub2[\"healthiness\"] = (sub2[\"protein\"] + sub2[\"fiber\"]) / sub2[\"sugars\"]\r\n",
        "sub2[\"healthiness\"].median()"
      ],
      "execution_count": 64,
      "outputs": [
        {
          "output_type": "stream",
          "text": [
            "/usr/local/lib/python3.6/dist-packages/ipykernel_launcher.py:5: SettingWithCopyWarning: \n",
            "A value is trying to be set on a copy of a slice from a DataFrame.\n",
            "Try using .loc[row_indexer,col_indexer] = value instead\n",
            "\n",
            "See the caveats in the documentation: https://pandas.pydata.org/pandas-docs/stable/user_guide/indexing.html#returning-a-view-versus-a-copy\n",
            "  \"\"\"\n"
          ],
          "name": "stderr"
        },
        {
          "output_type": "execute_result",
          "data": {
            "text/plain": [
              "0.475"
            ]
          },
          "metadata": {
            "tags": []
          },
          "execution_count": 64
        }
      ]
    },
    {
      "cell_type": "code",
      "metadata": {
        "colab": {
          "base_uri": "https://localhost:8080/"
        },
        "id": "vdwS0x4Nhorx",
        "outputId": "68958953-9675-461c-a91f-b43aa359ed22"
      },
      "source": [
        "titanic = pd.read_csv(\"https://raw.githubusercontent.com/byui-cse/cse450-course/master/data/titanic.csv\")\r\n",
        "\r\n",
        "titanic[\"Surname\"] = titanic[\"Name\"].str.split(\",\").str.get(0)\r\n",
        "\r\n",
        "titanic[\"Initial\"] = titanic[\"Surname\"].str.get(0).str.lower()\r\n",
        "\r\n",
        "titanic = titanic[titanic[\"Initial\"] == \"k\"]\r\n",
        "\r\n",
        "titanic.value_counts(\"Initial\")"
      ],
      "execution_count": 65,
      "outputs": [
        {
          "output_type": "execute_result",
          "data": {
            "text/plain": [
              "Initial\n",
              "k    28\n",
              "dtype: int64"
            ]
          },
          "metadata": {
            "tags": []
          },
          "execution_count": 65
        }
      ]
    }
  ]
}